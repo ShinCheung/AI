{
 "cells": [
  {
   "cell_type": "markdown",
   "metadata": {},
   "source": [
    "输入一个字符串 返回满足以下条件的字符串\n",
    " - 由字符串的最前面两个字母和最后两个字母组成的字符串。\n",
    " - 例如： 'spring' 返回 'spng'， 'is' 返回 'is’\n",
    " - 当输入的字符串长度小于2时，返回空字符串"
   ]
  },
  {
   "cell_type": "code",
   "execution_count": 11,
   "metadata": {},
   "outputs": [
    {
     "name": "stdout",
     "output_type": "stream",
     "text": [
      "algorithm\n",
      "alhm\n"
     ]
    }
   ],
   "source": [
    "s = input()\n",
    "if len(s) < 2:\n",
    "    print('')\n",
    "# elif len(s) == 2:\n",
    "#     print(s)\n",
    "elif len(s) > 3:\n",
    "    print(s[:2] + s[-2:])"
   ]
  },
  {
   "cell_type": "code",
   "execution_count": null,
   "metadata": {},
   "outputs": [],
   "source": []
  }
 ],
 "metadata": {
  "kernelspec": {
   "display_name": "Python 3",
   "language": "python",
   "name": "python3"
  },
  "language_info": {
   "codemirror_mode": {
    "name": "ipython",
    "version": 3
   },
   "file_extension": ".py",
   "mimetype": "text/x-python",
   "name": "python",
   "nbconvert_exporter": "python",
   "pygments_lexer": "ipython3",
   "version": "3.6.5"
  }
 },
 "nbformat": 4,
 "nbformat_minor": 2
}
