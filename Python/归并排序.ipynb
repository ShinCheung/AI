{
 "cells": [
  {
   "cell_type": "markdown",
   "metadata": {},
   "source": [
    "归并排序"
   ]
  },
  {
   "cell_type": "markdown",
   "metadata": {},
   "source": [
    "解析：\n",
    "\n",
    "归并排序是采用分治法的一个非常典型的应用。归并排序的思想就是先递归分解数组，再合并数组。\n",
    "\n",
    "先考虑合并两个有序数组，基本思路是比较两个数组的最前面的数，谁小就先取谁，取了后相应的指针就往后移一位。然后再比较，直至一个数组为空，最后把另一个数组的剩余部分复制过来即可。\n",
    "\n",
    "再考虑递归分解，基本思路是将数组分解成left和right，如果这两个数组内部数据是有序的，那么就可以用上面合并数组的方法将这两个数组合并排序。如何让这两个数组内部是有序的？可以再二分，直至分解出的小组只含有一个元素时为止，此时认为该小组内部已有序。然后合并排序相邻二个小组即可。"
   ]
  },
  {
   "cell_type": "code",
   "execution_count": 2,
   "metadata": {},
   "outputs": [
    {
     "name": "stdout",
     "output_type": "stream",
     "text": [
      "[0, 0, 1, 2, 2, 2, 3, 3, 4, 4, 4, 4, 5, 5, 5, 5, 5, 5, 7, 7, 8, 8, 9, 9, 10, 10, 10, 10, 17, 21]\n"
     ]
    }
   ],
   "source": [
    "def merge_sort(array1, array2):\n",
    "    \"\"\"\n",
    "    两个有序数组的归并排序。\n",
    "    :param array1: 数组1。\n",
    "    :param array2: 数组2。\n",
    "    :return: 归并排序后的有序数组。\n",
    "    \"\"\"\n",
    "    array1 = sorted(array1)  # 先确保已经是有序的。\n",
    "    array2 = sorted(array2)\n",
    "    m1 = len(array1)\n",
    "    m2 = len(array2)\n",
    "    result = []\n",
    "    i = 0\n",
    "    j = 0\n",
    "    while i < m1 and j < m2:\n",
    "        if array1[i] < array2[j]:\n",
    "            result.append(array1[i])\n",
    "            i += 1\n",
    "        else:\n",
    "            result.append(array2[j])\n",
    "            j += 1\n",
    "    # 如果退出上面的循环，那么说明，有一个已经遍历完了，所以直接加入剩下的另一个列表的剩余元素。\n",
    "    while i < m1:\n",
    "        result.append(array1[i])\n",
    "        i += 1\n",
    "    while j < m2:\n",
    "        result.append(array2[j])\n",
    "        j += 1\n",
    "    return result\n",
    "\n",
    "a = [10, 21, 4, 2, 4, 5, 17, 10, 5, 5, 10, 8, 9, 0, 3]\n",
    "b = [1, 2, 4, 2, 4, 5, 7, 10, 5, 5, 7, 8, 9, 0, 3]\n",
    "print(merge_sort(a, b))"
   ]
  },
  {
   "cell_type": "code",
   "execution_count": 8,
   "metadata": {},
   "outputs": [
    {
     "name": "stdout",
     "output_type": "stream",
     "text": [
      "[17, 20, 26, 31, 44, 54, 55, 77, 93]\n"
     ]
    }
   ],
   "source": [
    "def mergeSort(alist):\n",
    "    if len(alist) > 1:\n",
    "        mid = len(alist)//2\n",
    "        lefthalf = alist[:mid]\n",
    "        righthalf = alist[mid:]\n",
    "\n",
    "        mergeSort(lefthalf)\n",
    "        mergeSort(righthalf)\n",
    "\n",
    "        i, j, k = 0, 0, 0\n",
    "        while i < len(lefthalf) and j < len(righthalf):\n",
    "            if lefthalf[i] < righthalf[j]:\n",
    "                alist[k] = lefthalf[i]\n",
    "                i += 1\n",
    "            else:\n",
    "                alist[k] = righthalf[j]\n",
    "                j += 1\n",
    "            k += 1\n",
    "\n",
    "        while i < len(lefthalf):\n",
    "            alist[k] = lefthalf[i]\n",
    "            i += 1\n",
    "        while j < len(righthalf):\n",
    "            alist[k] = righthalf[j]\n",
    "            j += 1\n",
    "\n",
    "alist = [54,26,93,17,77,31,44,55,20]\n",
    "mergeSort(alist)\n",
    "print(alist)"
   ]
  },
  {
   "cell_type": "code",
   "execution_count": null,
   "metadata": {},
   "outputs": [],
   "source": []
  }
 ],
 "metadata": {
  "kernelspec": {
   "display_name": "Python 3",
   "language": "python",
   "name": "python3"
  },
  "language_info": {
   "codemirror_mode": {
    "name": "ipython",
    "version": 3
   },
   "file_extension": ".py",
   "mimetype": "text/x-python",
   "name": "python",
   "nbconvert_exporter": "python",
   "pygments_lexer": "ipython3",
   "version": "3.6.5"
  }
 },
 "nbformat": 4,
 "nbformat_minor": 2
}
