{
 "cells": [
  {
   "cell_type": "markdown",
   "metadata": {},
   "source": [
    "快速排序"
   ]
  },
  {
   "cell_type": "markdown",
   "metadata": {},
   "source": [
    "解析：\n",
    "\n",
    "步骤：\n",
    "\n",
    "1 从数列中挑出一个元素，称为 “基准”（pivot），\n",
    "2 重新排序数列，所有元素比基准值小的摆放在基准前面，所有元素比基准值大的摆在基准的后面（相同的数可以到任一边）。在这个分区退出之后，该基准就处于数列的中间位置。这个称为分区（partition）操作。\n",
    "3 递归地（recursive）把小于基准值元素的子数列和大于基准值元素的子数列排序。\n",
    "\n",
    "换言之\n",
    "快速排序时基于分治模式处理的，\n",
    "对一个典型子数组A[p...r]排序的分治过程为三个步骤：\n",
    "1.分解：\n",
    "A[p..r]被划分为俩个（可能空）的子数组A[p ..q-1]和A[q+1 ..r]，使得\n",
    "A[p ..q-1] <= A[q] <= A[q+1 ..r]\n",
    "2.解决：通过递归调用快速排序，对子数组A[p ..q-1]和A[q+1 ..r]排序。\n",
    "3.合并。"
   ]
  },
  {
   "cell_type": "code",
   "execution_count": 2,
   "metadata": {},
   "outputs": [
    {
     "name": "stdout",
     "output_type": "stream",
     "text": [
      "[0, 1, 2, 3, 4, 5, 5, 5, 6, 6, 6, 7, 8, 9]\n"
     ]
    }
   ],
   "source": [
    "def quickSort(alist):\n",
    "    if len(alist) < 2:\n",
    "        return alist\n",
    "    else:\n",
    "        pivot = alist[0]\n",
    "        less = [i for i in alist[1:] if i <= pivot]\n",
    "        greater = [i for i in alist[1:] if i > pivot]\n",
    "        return quickSort(less) + [pivot] + quickSort(greater)\n",
    "test = [6,5,5,6,1,3,2,4,8,7,6,0,9,5]\n",
    "print(quicksort(test))"
   ]
  },
  {
   "cell_type": "code",
   "execution_count": null,
   "metadata": {},
   "outputs": [],
   "source": []
  }
 ],
 "metadata": {
  "kernelspec": {
   "display_name": "Python 3",
   "language": "python",
   "name": "python3"
  },
  "language_info": {
   "codemirror_mode": {
    "name": "ipython",
    "version": 3
   },
   "file_extension": ".py",
   "mimetype": "text/x-python",
   "name": "python",
   "nbconvert_exporter": "python",
   "pygments_lexer": "ipython3",
   "version": "3.6.5"
  }
 },
 "nbformat": 4,
 "nbformat_minor": 2
}
