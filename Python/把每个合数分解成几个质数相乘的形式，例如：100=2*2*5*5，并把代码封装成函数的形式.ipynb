{
 "cells": [
  {
   "cell_type": "raw",
   "metadata": {},
   "source": [
    "把每个合数分解成几个质数相乘的形式，例如：100=2*2*5*5，并把代码封装成函数的形式\n",
    "\n",
    "对n进行分解质因数，应先找到一个最小的质数i，然后按下述步骤完成:\n",
    "(1)如果这个质数恰等于n，则说明分解质因数的过程已经结束，打印出即可\n",
    "(2)如果n>i，但n能被i整除，则应打印出i的值，并用n除以i的商,作为新的正整数n,重复执行第一步\n",
    "(3)如果n不能被i整除，则用i+1作为i的值,重复执行第一步"
   ]
  },
  {
   "cell_type": "code",
   "execution_count": 3,
   "metadata": {},
   "outputs": [
    {
     "name": "stdout",
     "output_type": "stream",
     "text": [
      "100=2*2*5*5\n",
      "101=101\n",
      "102=2*3*17\n",
      "103=103\n",
      "104=2*2*2*13\n",
      "105=3*5*7\n",
      "106=2*53\n",
      "107=107\n",
      "108=2*2*3*3*3\n",
      "109=109\n",
      "110=2*5*11\n",
      "111=3*37\n",
      "112=2*2*2*2*7\n",
      "113=113\n",
      "114=2*3*19\n",
      "115=5*23\n",
      "116=2*2*29\n",
      "117=3*3*13\n",
      "118=2*59\n",
      "119=7*17\n"
     ]
    }
   ],
   "source": [
    "def f(n):\n",
    "    result = []\n",
    "    i = 2\n",
    "    str1 = str(n) + '='\n",
    "    while n > 1:\n",
    "        if n % i == 0:\n",
    "            n /= i\n",
    "            result.append(str(i))\n",
    "            i -= 1\n",
    "        i += 1\n",
    "    str1 += '*'.join(result)\n",
    "    return str1\n",
    "\n",
    "if __name__ == '__main__':\n",
    "    for j in range(100, 120):\n",
    "        print(f(j))"
   ]
  },
  {
   "cell_type": "code",
   "execution_count": null,
   "metadata": {},
   "outputs": [],
   "source": []
  }
 ],
 "metadata": {
  "kernelspec": {
   "display_name": "Python 3",
   "language": "python",
   "name": "python3"
  },
  "language_info": {
   "codemirror_mode": {
    "name": "ipython",
    "version": 3
   },
   "file_extension": ".py",
   "mimetype": "text/x-python",
   "name": "python",
   "nbconvert_exporter": "python",
   "pygments_lexer": "ipython3",
   "version": "3.6.5"
  }
 },
 "nbformat": 4,
 "nbformat_minor": 2
}
