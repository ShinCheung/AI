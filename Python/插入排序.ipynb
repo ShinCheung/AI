{
 "cells": [
  {
   "cell_type": "markdown",
   "metadata": {},
   "source": [
    "插入排序"
   ]
  },
  {
   "attachments": {},
   "cell_type": "markdown",
   "metadata": {},
   "source": [
    "解析：\n",
    "\n",
    "插入排序（Insertion Sort）的工作原理是通过构建有序序列，对于未排序数据，在已排序序列中从后向前扫描，找到相应位置并插入。\n",
    "\n",
    "算法执行步骤：\n",
    "1 从第一个元素开始，该元素可以认为已经被排序\n",
    "2 取出下一个元素，在已经排序的元素序列中从后向前扫描\n",
    "3 如果被扫描的元素（已排序）大于新元素，则将被扫描元素后移一位\n",
    "4 重复步骤3，直到找到已排序的元素小于或者等于新元素的位置\n",
    "5 将新元素插入到该位置后\n",
    "6 重复步骤2~5"
   ]
  },
  {
   "cell_type": "code",
   "execution_count": 1,
   "metadata": {},
   "outputs": [
    {
     "name": "stdout",
     "output_type": "stream",
     "text": [
      "[17, 20, 26, 31, 44, 54, 55, 77, 93]\n"
     ]
    }
   ],
   "source": [
    "def insert_sort(ary):\n",
    "    n = len(ary)\n",
    "    for i in range(1,n):\n",
    "        if ary[i] < ary[i-1]:\n",
    "            temp = ary[i]\n",
    "            #待插入的下标\n",
    "            index = i           \n",
    "            #从i-1 循环到 0 (包括0)\n",
    "            for j in range(i-1,-1,-1):  \n",
    "                if ary[j] > temp:\n",
    "                    ary[j+1] = ary[j]\n",
    "                    #记录待插入下标\n",
    "                    index = j   \n",
    "                else:\n",
    "                    break\n",
    "            ary[index] = temp\n",
    "    return ary\n",
    "\n",
    "alist = [54,26,93,17,77,31,44,55,20]\n",
    "print(insert_sort(alist))"
   ]
  },
  {
   "cell_type": "code",
   "execution_count": 2,
   "metadata": {},
   "outputs": [
    {
     "name": "stdout",
     "output_type": "stream",
     "text": [
      "[17, 20, 26, 31, 44, 54, 55, 77, 93]\n"
     ]
    }
   ],
   "source": [
    "def insertSort(alist):\n",
    "    for key, item in enumerate(alist):\n",
    "        index = key\n",
    "        while index > 0 and alist[index-1] > item:\n",
    "            alist[index] = alist[index-1]\n",
    "            index -= 1\n",
    "        alist[index] = item\n",
    "    return alist\n",
    "\n",
    "alist = [54,26,93,17,77,31,44,55,20]\n",
    "print(insertSort(alist))"
   ]
  },
  {
   "cell_type": "code",
   "execution_count": 3,
   "metadata": {},
   "outputs": [
    {
     "name": "stdout",
     "output_type": "stream",
     "text": [
      "[17, 20, 26, 31, 44, 54, 55, 77, 93]\n"
     ]
    }
   ],
   "source": [
    "def insertSort2(alist):\n",
    "    for index in range(1, len(alist)):\n",
    "        currentvalue = alist[index]\n",
    "        position = index\n",
    "        while position > 0 and alist[position-1] > currentvalue:\n",
    "            alist[position] = alist[position-1]\n",
    "            position -= 1\n",
    "        alist[position] = currentvalue\n",
    "    return alist\n",
    "\n",
    "print(insertSort2(alist))"
   ]
  },
  {
   "cell_type": "code",
   "execution_count": null,
   "metadata": {},
   "outputs": [],
   "source": []
  }
 ],
 "metadata": {
  "kernelspec": {
   "display_name": "Python 3",
   "language": "python",
   "name": "python3"
  },
  "language_info": {
   "codemirror_mode": {
    "name": "ipython",
    "version": 3
   },
   "file_extension": ".py",
   "mimetype": "text/x-python",
   "name": "python",
   "nbconvert_exporter": "python",
   "pygments_lexer": "ipython3",
   "version": "3.6.5"
  }
 },
 "nbformat": 4,
 "nbformat_minor": 2
}
