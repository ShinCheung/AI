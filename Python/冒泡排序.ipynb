{
 "cells": [
  {
   "cell_type": "markdown",
   "metadata": {},
   "source": [
    "冒泡排序"
   ]
  },
  {
   "cell_type": "markdown",
   "metadata": {},
   "source": [
    "解析：\n",
    "\n",
    "冒泡排序的原理不难，假定要将被排序的数组R[1..n]从大到小垂直排列，每个数字R可以看作是重量为R.key的气泡。\n",
    "\n",
    "根据轻气泡在上、重气泡在下的原则，从下往上扫描数组R:凡扫描到违反本原则的轻气泡，则使其向上\"飘浮\"。如此反复进行，直到最后任何两个气泡都是轻者在上、重者在下为止。\n",
    "然后将所有气泡逆序，就实现了数组从小到大的排序。\n",
    "\n",
    "步骤：\n",
    "1 比较相邻的元素。如果第一个比第二个大，就交换他们两个。\n",
    "2 对第0个到第n-1个数据做同样的工作。这时，最大的数就到了数组最后的位置上。\n",
    "3 针对所有的元素重复以上的步骤，除了最后一个。\n",
    "4 持续每次对越来越少的元素重复上面的步骤，直到没有任何一对数字需要比较。"
   ]
  },
  {
   "cell_type": "code",
   "execution_count": 2,
   "metadata": {},
   "outputs": [
    {
     "name": "stdout",
     "output_type": "stream",
     "text": [
      "[17, 20, 26, 31, 44, 54, 55, 77, 93]\n"
     ]
    }
   ],
   "source": [
    "def bubble_sort(arry):\n",
    "    #获得数组的长度\n",
    "    n = len(arry)                   \n",
    "    for i in range(n):\n",
    "        for j in range(1, n-i):\n",
    "            #如果前者比后者大\n",
    "            if arry[j-1] > arry[j]:\n",
    "                #则交换两者     \n",
    "                arry[j-1], arry[j] = arry[j], arry[j-1]      \n",
    "    return arry\n",
    "\n",
    "test = [54,26,93,17,77,31,44,55,20]\n",
    "print(bubble_sort(test))"
   ]
  },
  {
   "cell_type": "code",
   "execution_count": 3,
   "metadata": {},
   "outputs": [
    {
     "name": "stdout",
     "output_type": "stream",
     "text": [
      "[17, 20, 26, 31, 44, 54, 55, 77, 93]\n"
     ]
    }
   ],
   "source": [
    "def bubbleSort(alist):\n",
    "    n = len(alist)\n",
    "    for i in range(n-1, 0, -1):\n",
    "        for j in range(i):\n",
    "            if alist[j] > alist[j+1]:\n",
    "                alist[j], alist[j+1] = alist[j+1], alist[j]\n",
    "    return alist\n",
    "test = [54,26,93,17,77,31,44,55,20]\n",
    "print(bubbleSort(test))"
   ]
  },
  {
   "cell_type": "code",
   "execution_count": null,
   "metadata": {},
   "outputs": [],
   "source": []
  }
 ],
 "metadata": {
  "kernelspec": {
   "display_name": "Python 3",
   "language": "python",
   "name": "python3"
  },
  "language_info": {
   "codemirror_mode": {
    "name": "ipython",
    "version": 3
   },
   "file_extension": ".py",
   "mimetype": "text/x-python",
   "name": "python",
   "nbconvert_exporter": "python",
   "pygments_lexer": "ipython3",
   "version": "3.6.5"
  }
 },
 "nbformat": 4,
 "nbformat_minor": 2
}
