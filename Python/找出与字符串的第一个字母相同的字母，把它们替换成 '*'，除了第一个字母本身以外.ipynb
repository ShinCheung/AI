{
 "cells": [
  {
   "cell_type": "markdown",
   "metadata": {},
   "source": [
    "输入一个字符串返回满足以下条件的字符串\n",
    "找出与字符串的第一个字母相同的字母，把它们替换成 '*'，除了第一个字母本身以外\n",
    "例如: 输入'babble'， 返回 'ba**le'"
   ]
  },
  {
   "cell_type": "markdown",
   "metadata": {},
   "source": [
    "1、一般法"
   ]
  },
  {
   "cell_type": "code",
   "execution_count": 3,
   "metadata": {},
   "outputs": [
    {
     "name": "stdout",
     "output_type": "stream",
     "text": [
      "input:abaac\n",
      "1\n",
      "2\n",
      "3\n",
      "4\n",
      "ab**c\n"
     ]
    }
   ],
   "source": [
    "s=input('input:')\n",
    "for i in range(1,len(s)):\n",
    "    print(i)\n",
    "    if s[0]==s[i]:\n",
    "        s=s[:i]+'*'+s[i+1:]\n",
    "print(s)"
   ]
  },
  {
   "cell_type": "markdown",
   "metadata": {},
   "source": [
    "2、replace法"
   ]
  },
  {
   "cell_type": "code",
   "execution_count": 28,
   "metadata": {},
   "outputs": [
    {
     "name": "stdout",
     "output_type": "stream",
     "text": [
      "abaac\n",
      "ab**c\n"
     ]
    }
   ],
   "source": [
    "input_str = input()\n",
    "fist_str = input_str[0]\n",
    "s = input_str[1:].replace(fist_str,'*')\n",
    "print(fist_str + s)"
   ]
  },
  {
   "cell_type": "code",
   "execution_count": null,
   "metadata": {},
   "outputs": [],
   "source": []
  }
 ],
 "metadata": {
  "kernelspec": {
   "display_name": "Python 3",
   "language": "python",
   "name": "python3"
  },
  "language_info": {
   "codemirror_mode": {
    "name": "ipython",
    "version": 3
   },
   "file_extension": ".py",
   "mimetype": "text/x-python",
   "name": "python",
   "nbconvert_exporter": "python",
   "pygments_lexer": "ipython3",
   "version": "3.6.5"
  }
 },
 "nbformat": 4,
 "nbformat_minor": 2
}
