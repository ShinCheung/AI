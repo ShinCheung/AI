{
 "cells": [
  {
   "cell_type": "markdown",
   "metadata": {},
   "source": [
    "堆排序"
   ]
  },
  {
   "cell_type": "markdown",
   "metadata": {},
   "source": [
    "解析：\n",
    "\n",
    "堆排序在 top K 问题中使用比较频繁。堆排序是采用二叉堆的数据结构来实现的，虽然实质上还是一维数组。二叉堆是一个近似完全二叉树 。\n",
    "\n",
    "二叉堆具有以下性质：\n",
    "\n",
    "父节点的键值总是大于或等于（小于或等于）任何一个子节点的键值。\n",
    "每个节点的左右子树都是一个二叉堆（都是最大堆或最小堆）。\n",
    "\n",
    "步骤：\n",
    "1 构造最大堆（Build_Max_Heap）：若数组下标范围为0~n，考虑到单独一个元素是大根堆，则从下标n/2开始的元素均为大根堆。于是只要从n/2-1开始，向前依次构造大根堆，这样就能保证，构造到某个节点时，它的左右子树都已经是大根堆。\n",
    "\n",
    "2 堆排序（HeapSort）：由于堆是用数组模拟的。得到一个大根堆后，数组内部并不是有序的。因此需要将堆化数组有序化。思想是移除根节点，并做最大堆调整的递归运算。第一次将heap[0]与heap[n-1]交换，再对heap[0...n-2]做最大堆调整。第二次将heap[0]与heap[n-2]交换，再对heap[0...n-3]做最大堆调整。重复该操作直至heap[0]和heap[1]交换。由于每次都是将最大的数并入到后面的有序区间，故操作完后整个数组就是有序的了。\n",
    "\n",
    "3 最大堆调整（Max_Heapify）：该方法是提供给上述两个过程调用的。目的是将堆的末端子节点作调整，使得子节点永远小于父节点。"
   ]
  },
  {
   "cell_type": "code",
   "execution_count": 1,
   "metadata": {},
   "outputs": [
    {
     "name": "stdout",
     "output_type": "stream",
     "text": [
      "[0, 1, 2, 5, 6, 8, 10, 12, 16]\n"
     ]
    }
   ],
   "source": [
    "def heap_sort(ary):\n",
    "    n = len(ary)\n",
    "    #最后一个非叶子节点\n",
    "    first = int(n/2-1)       \n",
    "    #构造大根堆\n",
    "    for start in range(first,-1,-1):     \n",
    "        max_heapify(ary,start,n-1)\n",
    "\n",
    "    #堆排，将大根堆转换成有序数组\n",
    "    for end in range(n-1,0,-1):           \n",
    "        ary[end],ary[0] = ary[0],ary[end]\n",
    "        max_heapify(ary,0,end-1)\n",
    "    return ary\n",
    "\n",
    "#最大堆调整：将堆的末端子节点作调整，使得子节点永远小于父节点\n",
    "#start为当前需要调整最大堆的位置，end为调整边界\n",
    "def max_heapify(ary,start,end):\n",
    "    root = start\n",
    "    while True:\n",
    "        #调整节点的子节点\n",
    "        child = root*2 +1               \n",
    "        if child > end : break\n",
    "        if child+1 <= end and ary[child] < ary[child+1]:\n",
    "            #取较大的子节点\n",
    "            child = child+1\n",
    "        #较大的子节点成为父节点             \n",
    "        if ary[root] < ary[child]:    \n",
    "            #交换 \n",
    "            ary[root],ary[child] = ary[child],ary[root]     \n",
    "            root = child\n",
    "        else:\n",
    "            break\n",
    "\n",
    "test = [0,1,2,5,6,8,10,12,16]\n",
    "print(heap_sort(test))"
   ]
  },
  {
   "cell_type": "code",
   "execution_count": null,
   "metadata": {},
   "outputs": [],
   "source": []
  }
 ],
 "metadata": {
  "kernelspec": {
   "display_name": "Python 3",
   "language": "python",
   "name": "python3"
  },
  "language_info": {
   "codemirror_mode": {
    "name": "ipython",
    "version": 3
   },
   "file_extension": ".py",
   "mimetype": "text/x-python",
   "name": "python",
   "nbconvert_exporter": "python",
   "pygments_lexer": "ipython3",
   "version": "3.6.5"
  }
 },
 "nbformat": 4,
 "nbformat_minor": 2
}
